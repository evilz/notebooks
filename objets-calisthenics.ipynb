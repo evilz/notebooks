{
 "cells": [
  {
   "cell_type": "markdown",
   "metadata": {},
   "source": [
    "# Revu des 9 règles de Object Calisthenics.\n",
    "Source : https://www.jimmyklein.fr/les-objets-calisthenics/\n",
    "\n",
    "\n",
    "> L'objectif est d'avoir un code plus maintenable, plus lisible et plus facilement testable.\n",
    "\n",
    "\n",
    "## Un seul niveau d'indentation par méthode\n",
    "\n",
    "Cela permet de faciliter la lecture et la maintenabilité du code."
   ]
  },
  {
   "cell_type": "code",
   "execution_count": 1,
   "metadata": {
    "dotnet_interactive": {
     "language": "csharp"
    },
    "polyglot_notebook": {
     "language": "csharp"
    },
    "vscode": {
     "languageId": "dotnet-interactive.csharp"
    }
   },
   "outputs": [],
   "source": [
    "public record Contact(bool isEnabled);\n",
    "public void MailerSend(Contact contact) {}\n",
    "\n",
    "// 🚫 Cette méthode contient deux niveaux d'indentation\n",
    "public void Notify(IEnumerable<Contact> contacts)\n",
    "{\n",
    "    foreach (var contact in contacts) { // 1\n",
    "        if (contact.isEnabled) {        // 2\n",
    "            MailerSend(contact);\n",
    "        }\n",
    "    }\n",
    "}"
   ]
  },
  {
   "cell_type": "markdown",
   "metadata": {},
   "source": []
  }
 ],
 "metadata": {
  "kernelspec": {
   "display_name": ".NET (C#)",
   "language": "C#",
   "name": ".net-csharp"
  },
  "language_info": {
   "name": "C#"
  }
 },
 "nbformat": 4,
 "nbformat_minor": 2
}
